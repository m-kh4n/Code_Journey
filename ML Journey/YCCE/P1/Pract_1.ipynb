{
 "cells": [
  {
   "cell_type": "markdown",
   "metadata": {},
   "source": [
    "## Practical 1 \n",
    "#### Aim : Implementation of supervised learning algorithms from scratch\n",
    "#### Problem Definition : Download a labeled dataset (.csv) and implement the different supervised learning algorithms, like Decision Tree, K-NN, Naive Bayes. Understand the methodologies, implementation details, and libraries of each of the learning algorithms. Compare the performance of each algorithm for the given dataset."
   ]
  },
  {
   "cell_type": "code",
   "execution_count": 21,
   "metadata": {},
   "outputs": [],
   "source": [
    "import numpy as np\n",
    "import pandas as pd\n",
    "import seaborn as sb\n",
    "import matplotlib.pyplot as plt\n",
    "import warnings\n",
    "from sklearn import tree\n",
    "from sklearn.tree import DecisionTreeClassifier\n",
    "from sklearn.model_selection import train_test_split\n",
    "warnings.filterwarnings(\"ignore\")\n",
    "\n",
    "# For finding performance, accuracy, report\n",
    "from sklearn.metrics import confusion_matrix\n",
    "from sklearn.metrics import accuracy_score\n",
    "from sklearn.metrics import classification_report"
   ]
  },
  {
   "cell_type": "code",
   "execution_count": 22,
   "metadata": {},
   "outputs": [],
   "source": [
    "# Function importing Dataset\n",
    "def importdata():\n",
    "    iris_data = pd.read_csv(\"D:\\Code_Journey\\ML Journey\\YCCE\\P1\\maternal+health+risk\\Maternal Health Risk Data Set.csv\",\n",
    "    sep= ',', header = None)\n",
    "\n",
    "    # Printing the dataswet shape\n",
    "    print (\"Dataset Length: \", len(iris_data))\n",
    "    print (\"Dataset Shape: \", iris_data.shape)\n",
    "    \n",
    "    # Printing the dataset obseravtions\n",
    "    print (\"Dataset: \",iris_data.head())\n",
    "    return iris_data"
   ]
  },
  {
   "cell_type": "code",
   "execution_count": 23,
   "metadata": {},
   "outputs": [],
   "source": [
    "# Function to split the dataset\n",
    "def splitdataset(balance_data):\n",
    "\n",
    "    # Separating the target variable\n",
    "    X = balance_data.values[:, 0:6]\n",
    "    Y = balance_data.values[:, 6]\n",
    "\n",
    "    # Splitting the dataset into train and test\n",
    "    X_train, X_test, Y_train, Y_test = train_test_split(\n",
    "    X, Y, test_size=0.05)\n",
    "    print(X)\n",
    "    print(Y)\n",
    "\n",
    "    return X, Y, X_train, X_test, Y_train, Y_test"
   ]
  },
  {
   "cell_type": "code",
   "execution_count": 24,
   "metadata": {},
   "outputs": [],
   "source": [
    "# Function to perform training with giniIndex.\n",
    "def train_using_gini(X_train, X_test, Y_train):\n",
    "        # Creating the classifier object\n",
    "        clf_gini = DecisionTreeClassifier(criterion = \"gini\",max_depth=4)\n",
    "\n",
    "        # Performing training\n",
    "        clf_gini.fit(X_train, Y_train)\n",
    "        tree.plot_tree(clf_gini)\n",
    "        print(clf_gini)\n",
    "        return clf_gini"
   ]
  },
  {
   "cell_type": "code",
   "execution_count": 25,
   "metadata": {},
   "outputs": [],
   "source": [
    "# Function to perform training with entropy.\n",
    "def train_using_entropy(X_train, X_test, Y_train):\n",
    "\n",
    "        # Decision tree with entropy\n",
    "        clf_entropy = DecisionTreeClassifier(criterion = \"entropy\", max_depth = 5)\n",
    "\n",
    "        # Performing training\n",
    "        clf_entropy.fit(X_train, Y_train)\n",
    "        tree.plot_tree(clf_entropy)\n",
    "        print(clf_entropy)\n",
    "        return clf_entropy"
   ]
  },
  {
   "cell_type": "code",
   "execution_count": 26,
   "metadata": {},
   "outputs": [],
   "source": [
    "# Function to make predictions\n",
    "def prediction(X_test, clf_object):\n",
    "\n",
    "    # Predicton on test with giniIndex\n",
    "    y_pred = clf_object.predict(X_test)\n",
    "    print(\"Predicted values:\")\n",
    "    print(y_pred)\n",
    "    return y_pred"
   ]
  },
  {
   "cell_type": "code",
   "execution_count": 27,
   "metadata": {},
   "outputs": [],
   "source": [
    "# Function to calculate accuracy\n",
    "def cal_accuracy(y_test, y_pred):\n",
    "\n",
    "    print(\"Confusion Matrix: \",confusion_matrix(y_test, y_pred))\n",
    "\n",
    "    print (\"Accuracy : \",accuracy_score(y_test,y_pred)*100)\n",
    "\n",
    "    print(\"Report : \",classification_report(y_test, y_pred))"
   ]
  },
  {
   "cell_type": "code",
   "execution_count": 28,
   "metadata": {},
   "outputs": [],
   "source": [
    "# Driver code\n",
    "def main():\n",
    "\n",
    "    # Building Phase\n",
    "    data= importdata()\n",
    "    X, Y, X_train, X_test, Y_train, Y_test = splitdataset(data)\n",
    "    clf_gini = train_using_gini(X_train, X_test, Y_train)\n",
    "    clf_entropy = train_using_entropy(X_train, X_test, Y_train)\n",
    "\n",
    "    # Operational Phase\n",
    "    print(\"Results Using Gini Index:\")\n",
    "\n",
    "    # Prediction using gini\n",
    "    y_pred_gini = prediction(X_test, clf_gini)\n",
    "    cal_accuracy(Y_test, y_pred_gini)\n",
    "\n",
    "    print(\"Results Using Entropy:\")\n",
    "    # Prediction using entropy\n",
    "    y_pred_entropy = prediction(X_test, clf_entropy)\n",
    "    cal_accuracy(Y_test, y_pred_entropy)"
   ]
  },
  {
   "cell_type": "code",
   "execution_count": 29,
   "metadata": {},
   "outputs": [
    {
     "name": "stdout",
     "output_type": "stream",
     "text": [
      "Dataset Length:  1014\n",
      "Dataset Shape:  (1014, 7)\n",
      "Dataset:      0    1   2     3      4   5          6\n",
      "0  25  130  80  15.0   98.0  86  high risk\n",
      "1  35  140  90  13.0   98.0  70  high risk\n",
      "2  29   90  70   8.0  100.0  80  high risk\n",
      "3  30  140  85   7.0   98.0  70  high risk\n",
      "4  35  120  60   6.1   98.0  76   low risk\n",
      "[[25 130 80 15.0 98.0 86]\n",
      " [35 140 90 13.0 98.0 70]\n",
      " [29 90 70 8.0 100.0 80]\n",
      " ...\n",
      " [35 85 60 19.0 98.0 86]\n",
      " [43 120 90 18.0 98.0 70]\n",
      " [32 120 65 6.0 101.0 76]]\n",
      "['high risk' 'high risk' 'high risk' ... 'high risk' 'high risk'\n",
      " 'mid risk']\n",
      "DecisionTreeClassifier(max_depth=4)\n",
      "DecisionTreeClassifier(criterion='entropy', max_depth=5)\n",
      "Results Using Gini Index:\n",
      "Predicted values:\n",
      "['high risk' 'low risk' 'high risk' 'low risk' 'mid risk' 'low risk'\n",
      " 'low risk' 'low risk' 'low risk' 'low risk' 'low risk' 'low risk'\n",
      " 'low risk' 'low risk' 'high risk' 'low risk' 'low risk' 'high risk'\n",
      " 'mid risk' 'high risk' 'high risk' 'high risk' 'high risk' 'low risk'\n",
      " 'high risk' 'low risk' 'low risk' 'high risk' 'low risk' 'low risk'\n",
      " 'mid risk' 'mid risk' 'low risk' 'low risk' 'low risk' 'low risk'\n",
      " 'high risk' 'low risk' 'low risk' 'mid risk' 'low risk' 'low risk'\n",
      " 'low risk' 'low risk' 'low risk' 'mid risk' 'mid risk' 'low risk'\n",
      " 'low risk' 'high risk' 'high risk']\n",
      "Confusion Matrix:  [[12  1  1]\n",
      " [ 0 19  1]\n",
      " [ 1 11  5]]\n",
      "Accuracy :  70.58823529411765\n",
      "Report :                precision    recall  f1-score   support\n",
      "\n",
      "   high risk       0.92      0.86      0.89        14\n",
      "    low risk       0.61      0.95      0.75        20\n",
      "    mid risk       0.71      0.29      0.42        17\n",
      "\n",
      "    accuracy                           0.71        51\n",
      "   macro avg       0.75      0.70      0.68        51\n",
      "weighted avg       0.73      0.71      0.68        51\n",
      "\n",
      "Results Using Entropy:\n",
      "Predicted values:\n",
      "['high risk' 'low risk' 'high risk' 'low risk' 'mid risk' 'low risk'\n",
      " 'low risk' 'low risk' 'low risk' 'low risk' 'low risk' 'low risk'\n",
      " 'low risk' 'low risk' 'high risk' 'low risk' 'low risk' 'high risk'\n",
      " 'mid risk' 'high risk' 'high risk' 'high risk' 'high risk' 'low risk'\n",
      " 'high risk' 'low risk' 'low risk' 'high risk' 'low risk' 'low risk'\n",
      " 'mid risk' 'mid risk' 'low risk' 'low risk' 'low risk' 'low risk'\n",
      " 'high risk' 'low risk' 'low risk' 'mid risk' 'low risk' 'low risk'\n",
      " 'low risk' 'low risk' 'mid risk' 'mid risk' 'mid risk' 'mid risk'\n",
      " 'low risk' 'high risk' 'high risk']\n",
      "Confusion Matrix:  [[12  1  1]\n",
      " [ 0 19  1]\n",
      " [ 1  9  7]]\n",
      "Accuracy :  74.50980392156863\n",
      "Report :                precision    recall  f1-score   support\n",
      "\n",
      "   high risk       0.92      0.86      0.89        14\n",
      "    low risk       0.66      0.95      0.78        20\n",
      "    mid risk       0.78      0.41      0.54        17\n",
      "\n",
      "    accuracy                           0.75        51\n",
      "   macro avg       0.79      0.74      0.73        51\n",
      "weighted avg       0.77      0.75      0.73        51\n",
      "\n"
     ]
    },
    {
     "data": {
      "image/png": "[encoded data removed]",
      "text/plain": [
       "<Figure size 640x480 with 1 Axes>"
      ]
     },
     "metadata": {},
     "output_type": "display_data"
    }
   ],
   "source": [
    "# Calling main function\n",
    "if __name__==\"__main__\":\n",
    "    main()"
   ]
  },
  {
   "cell_type": "code",
   "execution_count": null,
   "metadata": {},
   "outputs": [],
   "source": []
  }
 ],
 "metadata": {
  "kernelspec": {
   "display_name": "Python 3",
   "language": "python",
   "name": "python3"
  },
  "language_info": {
   "codemirror_mode": {
    "name": "ipython",
    "version": 3
   },
   "file_extension": ".py",
   "mimetype": "text/x-python",
   "name": "python",
   "nbconvert_exporter": "python",
   "pygments_lexer": "ipython3",
   "version": "3.11.6"
  }
 },
 "nbformat": 4,
 "nbformat_minor": 2
}
